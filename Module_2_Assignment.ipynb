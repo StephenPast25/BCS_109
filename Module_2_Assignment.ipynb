{
  "nbformat": 4,
  "nbformat_minor": 0,
  "metadata": {
    "colab": {
      "name": "Module 2 Assignment",
      "provenance": []
    },
    "kernelspec": {
      "name": "python3",
      "display_name": "Python 3"
    }
  },
  "cells": [
    {
      "cell_type": "code",
      "metadata": {
        "id": "343Z9xeIslD8",
        "colab_type": "code",
        "colab": {
          "base_uri": "https://localhost:8080/",
          "height": 34
        },
        "outputId": "1558e5ca-9bf0-4df8-8e0d-7ce6601f0924"
      },
      "source": [
        "print(\"Hello my name is Stephen\")\n"
      ],
      "execution_count": 39,
      "outputs": [
        {
          "output_type": "stream",
          "text": [
            "Hello my name is Stephen\n"
          ],
          "name": "stdout"
        }
      ]
    },
    {
      "cell_type": "markdown",
      "metadata": {
        "id": "g9iyb5jP05ab",
        "colab_type": "text"
      },
      "source": [
        "#My name is Stephen \n",
        "##**I am into many forms of media**\n",
        "###*I love to read comics and watch movies*"
      ]
    }
  ]
}