{
  "nbformat": 4,
  "nbformat_minor": 0,
  "metadata": {
    "colab": {
      "name": "Savings",
      "provenance": [],
      "collapsed_sections": []
    },
    "kernelspec": {
      "name": "python3",
      "display_name": "Python 3"
    }
  },
  "cells": [
    {
      "cell_type": "code",
      "metadata": {
        "id": "9GMfE63pQ9EH",
        "colab_type": "code",
        "colab": {
          "base_uri": "https://localhost:8080/",
          "height": 140
        },
        "outputId": "52dc16a7-5c04-40cc-d2f6-cf02a732d1cc"
      },
      "source": [
        "#to get future value\n",
        "r = float(input(\"What is the interest rate?\\n\"))\n",
        "p = float(input('What is the principal?\\n'))\n",
        "t = float(input('What is the time on the investment?\\n'))\n",
        "\n",
        "output = p*(1+r)**t\n",
        "print(\"The future value is: \", output)"
      ],
      "execution_count": null,
      "outputs": [
        {
          "output_type": "stream",
          "text": [
            "What is the interest rate?\n",
            ".05\n",
            "What is the principal?\n",
            "1000\n",
            "What is the time on the investment?\n",
            "30\n",
            "The future value is:  4321.942375150667\n"
          ],
          "name": "stdout"
        }
      ]
    },
    {
      "cell_type": "markdown",
      "metadata": {
        "id": "UNKaSjg4Rqy3",
        "colab_type": "text"
      },
      "source": [
        "#**Explanation**\n",
        "##*I first presented the question and then put the input which i floated*\n",
        "##*I then put the output and printed the answer I'm looking for*"
      ]
    },
    {
      "cell_type": "code",
      "metadata": {
        "id": "jtAkKa06Rplx",
        "colab_type": "code",
        "colab": {}
      },
      "source": [
        ""
      ],
      "execution_count": null,
      "outputs": []
    },
    {
      "cell_type": "code",
      "metadata": {
        "colab_type": "code",
        "id": "vEQrv6ps8ZtD",
        "colab": {
          "base_uri": "https://localhost:8080/",
          "height": 140
        },
        "outputId": "1d50edff-63e6-4747-b470-0f061533f65f"
      },
      "source": [
        "#to get future value\n",
        "r = float(input(\"What is the interest rate?\\n\"))\n",
        "p = float(input('What is the principal?\\n'))\n",
        "t = float(input('What is the time on the investment?\\n'))\n",
        "\n",
        "output = p*(1+r)**t\n",
        "print(\"The future value is: \", output)"
      ],
      "execution_count": 1,
      "outputs": [
        {
          "output_type": "stream",
          "text": [
            "What is the interest rate?\n",
            ".05\n",
            "What is the principal?\n",
            "2000\n",
            "What is the time on the investment?\n",
            "30\n",
            "The future value is:  8643.884750301335\n"
          ],
          "name": "stdout"
        }
      ]
    },
    {
      "cell_type": "code",
      "metadata": {
        "id": "CorsBGPW8pJU",
        "colab_type": "code",
        "colab": {}
      },
      "source": [
        ""
      ],
      "execution_count": null,
      "outputs": []
    },
    {
      "cell_type": "code",
      "metadata": {
        "colab_type": "code",
        "id": "ta7OpPSE8qyu",
        "colab": {
          "base_uri": "https://localhost:8080/",
          "height": 140
        },
        "outputId": "e8a44a23-be0b-43bd-a84f-1ce39de78c5e"
      },
      "source": [
        "#to get future value\n",
        "r = float(input(\"What is the interest rate?\\n\"))\n",
        "p = float(input('What is the principal?\\n'))\n",
        "t = float(input('What is the time on the investment?\\n'))\n",
        "\n",
        "output = p*(1+r)**t\n",
        "print(\"The future value is: \", output)"
      ],
      "execution_count": 2,
      "outputs": [
        {
          "output_type": "stream",
          "text": [
            "What is the interest rate?\n",
            ".05\n",
            "What is the principal?\n",
            "3000\n",
            "What is the time on the investment?\n",
            "30\n",
            "The future value is:  12965.827125452004\n"
          ],
          "name": "stdout"
        }
      ]
    },
    {
      "cell_type": "markdown",
      "metadata": {
        "id": "dWBXPgtE8zOZ",
        "colab_type": "text"
      },
      "source": [
        "# **Results**\n",
        "*After raising the principal by 1000 the future value is twice the price it used to be*\n"
      ]
    }
  ]
}