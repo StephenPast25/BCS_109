{
  "nbformat": 4,
  "nbformat_minor": 0,
  "metadata": {
    "colab": {
      "name": "Hw Sales",
      "provenance": [],
      "collapsed_sections": [],
      "authorship_tag": "ABX9TyN/RvOnPdjTUZSJAYUrc5BM",
      "include_colab_link": true
    },
    "kernelspec": {
      "name": "python3",
      "display_name": "Python 3"
    }
  },
  "cells": [
    {
      "cell_type": "markdown",
      "metadata": {
        "id": "view-in-github",
        "colab_type": "text"
      },
      "source": [
        "<a href=\"https://colab.research.google.com/github/StephenPast25/BCS_109/blob/master/Hw_Sales.ipynb\" target=\"_parent\"><img src=\"https://colab.research.google.com/assets/colab-badge.svg\" alt=\"Open In Colab\"/></a>"
      ]
    },
    {
      "cell_type": "code",
      "metadata": {
        "id": "dnFSSbiJiN5a",
        "colab_type": "code",
        "colab": {
          "base_uri": "https://localhost:8080/",
          "height": 50
        },
        "outputId": "65916339-9c5a-4518-fb4d-cf79be30635d"
      },
      "source": [
        "x = float(input('How much packages did you purchase?'))\n",
        "\n",
        "if x <=10 and x <=19:\n",
        "  print(\"You got a 10% discount\")\n",
        "elif x >= 20 and x <= 49:\n",
        "  print('You got a 20% discount')\n",
        "elif x >= 50 and x <= 99:\n",
        "  print('You got a 30% discount')\n",
        "elif x >= 100:\n",
        "  print('You got a 40% discount')"
      ],
      "execution_count": 6,
      "outputs": [
        {
          "output_type": "stream",
          "text": [
            "How much packages did you purchase?20\n",
            "You got a 20% discount\n"
          ],
          "name": "stdout"
        }
      ]
    },
    {
      "cell_type": "code",
      "metadata": {
        "id": "jBatJUqnkfdD",
        "colab_type": "code",
        "colab": {
          "base_uri": "https://localhost:8080/",
          "height": 50
        },
        "outputId": "b8e648a1-98f1-4940-dd43-c77cf8e42dfb"
      },
      "source": [
        "x = float(input('What is the weight of your package?'))\n",
        "\n",
        "if x >= 2:\n",
        "  print(\"The charge is $1.50\")\n",
        "elif x > 2 and x <= 6:\n",
        "  print('The charge is $3.00')\n",
        "elif x > 6 and x <= 10:\n",
        "  print('The charge is $4.00')\n",
        "elif x >= 10:\n",
        "  print('The charge is $4.75')"
      ],
      "execution_count": 7,
      "outputs": [
        {
          "output_type": "stream",
          "text": [
            "What is the weight of your package?3\n",
            "The charge is $1.50\n"
          ],
          "name": "stdout"
        }
      ]
    }
  ]
}