{
  "nbformat": 4,
  "nbformat_minor": 0,
  "metadata": {
    "colab": {
      "name": "MetricsHw.ipynb",
      "provenance": [],
      "authorship_tag": "ABX9TyPlYHLloAtJT4OI9PyF31SZ",
      "include_colab_link": true
    },
    "kernelspec": {
      "name": "python3",
      "display_name": "Python 3"
    }
  },
  "cells": [
    {
      "cell_type": "markdown",
      "metadata": {
        "id": "view-in-github",
        "colab_type": "text"
      },
      "source": [
        "<a href=\"https://colab.research.google.com/github/StephenPast25/BCS_109/blob/master/MetricsHw.ipynb\" target=\"_parent\"><img src=\"https://colab.research.google.com/assets/colab-badge.svg\" alt=\"Open In Colab\"/></a>"
      ]
    },
    {
      "cell_type": "markdown",
      "metadata": {
        "id": "-pywWIhetfD4"
      },
      "source": [
        "Accuracy is how close the output will be to the set point. It is good for showing exact info from the data. Precision is the number of digits that are used to express the value. Recall is the number of correct results divided by the number of results thay should be returned. All have their own uses for explaining data but they all have their shortcomings without one another.\n",
        "\n",
        "A confusion matrix is used to measure and see the performance of an machine learning algotithm."
      ]
    },
    {
      "cell_type": "code",
      "metadata": {
        "colab": {
          "base_uri": "https://localhost:8080/"
        },
        "id": "fpPqoZdg6EXm",
        "outputId": "ae852583-be27-44c2-8568-4c6939141da6"
      },
      "source": [
        "TP = 12\n",
        "TN = 20\n",
        "FP = 4\n",
        "FN = 10\n",
        "\n",
        "Accuracy = (TP + TN)/(TP + TN + FP + FN)\n",
        "print(Accuracy)"
      ],
      "execution_count": 3,
      "outputs": [
        {
          "output_type": "stream",
          "text": [
            "0.6956521739130435\n"
          ],
          "name": "stdout"
        }
      ]
    },
    {
      "cell_type": "code",
      "metadata": {
        "colab": {
          "base_uri": "https://localhost:8080/"
        },
        "id": "Sf6v0I1D6siu",
        "outputId": "ba7af9c8-2a91-47f9-b4a1-6cf254c6a2e4"
      },
      "source": [
        "TP = 12\n",
        "FP = 4\n",
        "# FN (10) and TN (20) are not needed in the formuala!\n",
        "precision = TP / (TP + FP)\n",
        "print(f\"precision: {precision:4.2f}\")"
      ],
      "execution_count": 4,
      "outputs": [
        {
          "output_type": "stream",
          "text": [
            "precision: 0.75\n"
          ],
          "name": "stdout"
        }
      ]
    },
    {
      "cell_type": "code",
      "metadata": {
        "colab": {
          "base_uri": "https://localhost:8080/"
        },
        "id": "m-zq8cRU7DN9",
        "outputId": "ecc7c3f5-96c1-4fa6-be88-1f693d82f008"
      },
      "source": [
        "TP = 12\n",
        "FN = 10\n",
        "# FP (4) and TN (20) are not needed in the formuala!\n",
        "recall = TP / (TP + FN)\n",
        "print(f\"recall: {recall:4.2f}\")"
      ],
      "execution_count": 5,
      "outputs": [
        {
          "output_type": "stream",
          "text": [
            "recall: 0.55\n"
          ],
          "name": "stdout"
        }
      ]
    },
    {
      "cell_type": "code",
      "metadata": {
        "colab": {
          "base_uri": "https://localhost:8080/"
        },
        "id": "ec11jxg67fMw",
        "outputId": "3f3c4507-2af1-487b-9f04-9664ef9a86db"
      },
      "source": [
        "TF = 7 # we set the True false values to 5 %\n",
        "print(\"  FN    FP   TP     pre   acc   rec   f1\")\n",
        "for FN in range(0, 7):\n",
        "    for FP in range(0, FN+1):\n",
        "        # the sum of FN, FP, TF and TP will be 100:\n",
        "        TP = 100 - FN - FP - TF\n",
        "        #print(FN, FP, TP, FN+FP+TP+TF)\n",
        "        precision = TP / (TP + FP)\n",
        "        accuracy = (TP + TN)/(TP + TN + FP + FN)\n",
        "        recall = TP / (TP + FN)\n",
        "        f1_score = 2 * precision * recall / (precision + recall)\n",
        "        print(f\"{FN:6.2f}{FP:6.2f}{TP:6.2f}\", end=\"\")\n",
        "        print(f\"{precision:6.2f}{accuracy:6.2f}{recall:6.2f}{f1_score:6.2f}\")"
      ],
      "execution_count": 6,
      "outputs": [
        {
          "output_type": "stream",
          "text": [
            "  FN    FP   TP     pre   acc   rec   f1\n",
            "  0.00  0.00 93.00  1.00  1.00  1.00  1.00\n",
            "  1.00  0.00 92.00  1.00  0.99  0.99  0.99\n",
            "  1.00  1.00 91.00  0.99  0.98  0.99  0.99\n",
            "  2.00  0.00 91.00  1.00  0.98  0.98  0.99\n",
            "  2.00  1.00 90.00  0.99  0.97  0.98  0.98\n",
            "  2.00  2.00 89.00  0.98  0.96  0.98  0.98\n",
            "  3.00  0.00 90.00  1.00  0.97  0.97  0.98\n",
            "  3.00  1.00 89.00  0.99  0.96  0.97  0.98\n",
            "  3.00  2.00 88.00  0.98  0.96  0.97  0.97\n",
            "  3.00  3.00 87.00  0.97  0.95  0.97  0.97\n",
            "  4.00  0.00 89.00  1.00  0.96  0.96  0.98\n",
            "  4.00  1.00 88.00  0.99  0.96  0.96  0.97\n",
            "  4.00  2.00 87.00  0.98  0.95  0.96  0.97\n",
            "  4.00  3.00 86.00  0.97  0.94  0.96  0.96\n",
            "  4.00  4.00 85.00  0.96  0.93  0.96  0.96\n",
            "  5.00  0.00 88.00  1.00  0.96  0.95  0.97\n",
            "  5.00  1.00 87.00  0.99  0.95  0.95  0.97\n",
            "  5.00  2.00 86.00  0.98  0.94  0.95  0.96\n",
            "  5.00  3.00 85.00  0.97  0.93  0.94  0.96\n",
            "  5.00  4.00 84.00  0.95  0.92  0.94  0.95\n",
            "  5.00  5.00 83.00  0.94  0.91  0.94  0.94\n",
            "  6.00  0.00 87.00  1.00  0.95  0.94  0.97\n",
            "  6.00  1.00 86.00  0.99  0.94  0.93  0.96\n",
            "  6.00  2.00 85.00  0.98  0.93  0.93  0.96\n",
            "  6.00  3.00 84.00  0.97  0.92  0.93  0.95\n",
            "  6.00  4.00 83.00  0.95  0.91  0.93  0.94\n",
            "  6.00  5.00 82.00  0.94  0.90  0.93  0.94\n",
            "  6.00  6.00 81.00  0.93  0.89  0.93  0.93\n"
          ],
          "name": "stdout"
        }
      ]
    },
    {
      "cell_type": "markdown",
      "metadata": {
        "id": "v2WiXBfh9pTF"
      },
      "source": [
        "An example of a type 1 error is a fire alarm is ringing and there is no fire while an example of type 2 is when a fire alarm fails to ring when there is fire."
      ]
    },
    {
      "cell_type": "markdown",
      "metadata": {
        "id": "5PdcecQz-qX9"
      },
      "source": [
        "The train.test,split() function is used to taking and splitting data while also training it to see if it works and testing it to work as well. Splitting data is for keeping the sets of data in their own place."
      ]
    },
    {
      "cell_type": "markdown",
      "metadata": {
        "id": "57a_7bwmAAbq"
      },
      "source": [
        "The bias vs. variance tradeoff is accuracy vs consistency seen in models of the algorithm."
      ]
    }
  ]
}