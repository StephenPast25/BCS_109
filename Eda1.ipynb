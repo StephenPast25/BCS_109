{
  "nbformat": 4,
  "nbformat_minor": 0,
  "metadata": {
    "colab": {
      "name": "Eda1.ipynb",
      "provenance": [],
      "authorship_tag": "ABX9TyMHXxIynuNRWmUfNAGT3p6t",
      "include_colab_link": true
    },
    "kernelspec": {
      "name": "python3",
      "display_name": "Python 3"
    }
  },
  "cells": [
    {
      "cell_type": "markdown",
      "metadata": {
        "id": "view-in-github",
        "colab_type": "text"
      },
      "source": [
        "<a href=\"https://colab.research.google.com/github/StephenPast25/BCS_109/blob/master/Eda1.ipynb\" target=\"_parent\"><img src=\"https://colab.research.google.com/assets/colab-badge.svg\" alt=\"Open In Colab\"/></a>"
      ]
    },
    {
      "cell_type": "code",
      "metadata": {
        "id": "nHE0cGu1Uos2",
        "outputId": "80e201c6-db1f-4da3-bb28-d1a97d9661bd",
        "colab": {
          "base_uri": "https://localhost:8080/",
          "height": 215
        }
      },
      "source": [
        "#load pandas and numpy libraries\n",
        "import pandas as pd\n",
        "import numpy as np\n",
        "import matplotlib.pyplot as plt\n",
        "import missingno as msno\n",
        "import seaborn as sns\n",
        "\n",
        "\n",
        "df = pd.read_csv(\"https://raw.githubusercontent.com/MatthewFried/Udemy/master/Day2/Day2_Data.csv\")\n",
        "df.head()"
      ],
      "execution_count": 1,
      "outputs": [
        {
          "output_type": "execute_result",
          "data": {
            "text/html": [
              "<div>\n",
              "<style scoped>\n",
              "    .dataframe tbody tr th:only-of-type {\n",
              "        vertical-align: middle;\n",
              "    }\n",
              "\n",
              "    .dataframe tbody tr th {\n",
              "        vertical-align: top;\n",
              "    }\n",
              "\n",
              "    .dataframe thead th {\n",
              "        text-align: right;\n",
              "    }\n",
              "</style>\n",
              "<table border=\"1\" class=\"dataframe\">\n",
              "  <thead>\n",
              "    <tr style=\"text-align: right;\">\n",
              "      <th></th>\n",
              "      <th>INDEX</th>\n",
              "      <th>TARGET</th>\n",
              "      <th>FixedAcidity</th>\n",
              "      <th>VolatileAcidity</th>\n",
              "      <th>CitricAcid</th>\n",
              "      <th>ResidualSugar</th>\n",
              "      <th>Chlorides</th>\n",
              "      <th>FreeSulfurDioxide</th>\n",
              "      <th>TotalSulfurDioxide</th>\n",
              "      <th>Density</th>\n",
              "      <th>pH</th>\n",
              "      <th>Sulphates</th>\n",
              "      <th>Alcohol</th>\n",
              "      <th>LabelAppeal</th>\n",
              "      <th>AcidIndex</th>\n",
              "      <th>STARS</th>\n",
              "    </tr>\n",
              "  </thead>\n",
              "  <tbody>\n",
              "    <tr>\n",
              "      <th>0</th>\n",
              "      <td>1</td>\n",
              "      <td>3</td>\n",
              "      <td>3.2</td>\n",
              "      <td>1.160</td>\n",
              "      <td>-0.98</td>\n",
              "      <td>54.2</td>\n",
              "      <td>-0.567</td>\n",
              "      <td>NaN</td>\n",
              "      <td>268.0</td>\n",
              "      <td>0.99280</td>\n",
              "      <td>3.33</td>\n",
              "      <td>-0.59</td>\n",
              "      <td>9.9</td>\n",
              "      <td>0</td>\n",
              "      <td>8</td>\n",
              "      <td>2.0</td>\n",
              "    </tr>\n",
              "    <tr>\n",
              "      <th>1</th>\n",
              "      <td>2</td>\n",
              "      <td>3</td>\n",
              "      <td>4.5</td>\n",
              "      <td>0.160</td>\n",
              "      <td>-0.81</td>\n",
              "      <td>26.1</td>\n",
              "      <td>-0.425</td>\n",
              "      <td>15.0</td>\n",
              "      <td>-327.0</td>\n",
              "      <td>1.02792</td>\n",
              "      <td>3.38</td>\n",
              "      <td>0.70</td>\n",
              "      <td>NaN</td>\n",
              "      <td>-1</td>\n",
              "      <td>7</td>\n",
              "      <td>3.0</td>\n",
              "    </tr>\n",
              "    <tr>\n",
              "      <th>2</th>\n",
              "      <td>4</td>\n",
              "      <td>5</td>\n",
              "      <td>7.1</td>\n",
              "      <td>2.640</td>\n",
              "      <td>-0.88</td>\n",
              "      <td>14.8</td>\n",
              "      <td>0.037</td>\n",
              "      <td>214.0</td>\n",
              "      <td>142.0</td>\n",
              "      <td>0.99518</td>\n",
              "      <td>3.12</td>\n",
              "      <td>0.48</td>\n",
              "      <td>22.0</td>\n",
              "      <td>-1</td>\n",
              "      <td>8</td>\n",
              "      <td>3.0</td>\n",
              "    </tr>\n",
              "    <tr>\n",
              "      <th>3</th>\n",
              "      <td>5</td>\n",
              "      <td>3</td>\n",
              "      <td>5.7</td>\n",
              "      <td>0.385</td>\n",
              "      <td>0.04</td>\n",
              "      <td>18.8</td>\n",
              "      <td>-0.425</td>\n",
              "      <td>22.0</td>\n",
              "      <td>115.0</td>\n",
              "      <td>0.99640</td>\n",
              "      <td>2.24</td>\n",
              "      <td>1.83</td>\n",
              "      <td>6.2</td>\n",
              "      <td>-1</td>\n",
              "      <td>6</td>\n",
              "      <td>1.0</td>\n",
              "    </tr>\n",
              "    <tr>\n",
              "      <th>4</th>\n",
              "      <td>6</td>\n",
              "      <td>4</td>\n",
              "      <td>8.0</td>\n",
              "      <td>0.330</td>\n",
              "      <td>-1.26</td>\n",
              "      <td>9.4</td>\n",
              "      <td>NaN</td>\n",
              "      <td>-167.0</td>\n",
              "      <td>108.0</td>\n",
              "      <td>0.99457</td>\n",
              "      <td>3.12</td>\n",
              "      <td>1.77</td>\n",
              "      <td>13.7</td>\n",
              "      <td>0</td>\n",
              "      <td>9</td>\n",
              "      <td>2.0</td>\n",
              "    </tr>\n",
              "  </tbody>\n",
              "</table>\n",
              "</div>"
            ],
            "text/plain": [
              "   INDEX  TARGET  FixedAcidity  ...  LabelAppeal  AcidIndex  STARS\n",
              "0      1       3           3.2  ...            0          8    2.0\n",
              "1      2       3           4.5  ...           -1          7    3.0\n",
              "2      4       5           7.1  ...           -1          8    3.0\n",
              "3      5       3           5.7  ...           -1          6    1.0\n",
              "4      6       4           8.0  ...            0          9    2.0\n",
              "\n",
              "[5 rows x 16 columns]"
            ]
          },
          "metadata": {
            "tags": []
          },
          "execution_count": 1
        }
      ]
    },
    {
      "cell_type": "markdown",
      "metadata": {
        "id": "sOON_wq2iVG8"
      },
      "source": [
        "This data is of the chemical compositions of wines. They checked around 12,700 wines for this data."
      ]
    },
    {
      "cell_type": "code",
      "metadata": {
        "id": "zBLf8amdf3Jg",
        "outputId": "8e5915da-0c69-443e-a53c-922d6e942d45",
        "colab": {
          "base_uri": "https://localhost:8080/"
        }
      },
      "source": [
        "#check for nulls\n",
        "df.isnull().sum()"
      ],
      "execution_count": 4,
      "outputs": [
        {
          "output_type": "execute_result",
          "data": {
            "text/plain": [
              "INDEX                    0\n",
              "TARGET                   0\n",
              "FixedAcidity             0\n",
              "VolatileAcidity          0\n",
              "CitricAcid               0\n",
              "ResidualSugar          616\n",
              "Chlorides              638\n",
              "FreeSulfurDioxide      647\n",
              "TotalSulfurDioxide     682\n",
              "Density                  0\n",
              "pH                     395\n",
              "Sulphates             1210\n",
              "Alcohol                653\n",
              "LabelAppeal              0\n",
              "AcidIndex                0\n",
              "STARS                 3359\n",
              "dtype: int64"
            ]
          },
          "metadata": {
            "tags": []
          },
          "execution_count": 4
        }
      ]
    },
    {
      "cell_type": "code",
      "metadata": {
        "id": "vGXxw2p5gHrH",
        "outputId": "01314206-9934-438c-f1da-51f0d4fa50d2",
        "colab": {
          "base_uri": "https://localhost:8080/"
        }
      },
      "source": [
        "#List number of unique values\n",
        "#We see this matches with the information that is given about the data\n",
        "df.nunique()"
      ],
      "execution_count": 3,
      "outputs": [
        {
          "output_type": "execute_result",
          "data": {
            "text/plain": [
              "INDEX                 12795\n",
              "TARGET                    9\n",
              "FixedAcidity            470\n",
              "VolatileAcidity         815\n",
              "CitricAcid              602\n",
              "ResidualSugar          2077\n",
              "Chlorides              1663\n",
              "FreeSulfurDioxide       999\n",
              "TotalSulfurDioxide     1370\n",
              "Density                5933\n",
              "pH                      497\n",
              "Sulphates               630\n",
              "Alcohol                 401\n",
              "LabelAppeal               5\n",
              "AcidIndex                14\n",
              "STARS                     4\n",
              "dtype: int64"
            ]
          },
          "metadata": {
            "tags": []
          },
          "execution_count": 3
        }
      ]
    },
    {
      "cell_type": "code",
      "metadata": {
        "id": "M0GkUmLZhd_E",
        "outputId": "157168b3-2a3f-411c-9a19-0b673b4d9051",
        "colab": {
          "base_uri": "https://localhost:8080/",
          "height": 304
        }
      },
      "source": [
        "df.describe()"
      ],
      "execution_count": 5,
      "outputs": [
        {
          "output_type": "execute_result",
          "data": {
            "text/html": [
              "<div>\n",
              "<style scoped>\n",
              "    .dataframe tbody tr th:only-of-type {\n",
              "        vertical-align: middle;\n",
              "    }\n",
              "\n",
              "    .dataframe tbody tr th {\n",
              "        vertical-align: top;\n",
              "    }\n",
              "\n",
              "    .dataframe thead th {\n",
              "        text-align: right;\n",
              "    }\n",
              "</style>\n",
              "<table border=\"1\" class=\"dataframe\">\n",
              "  <thead>\n",
              "    <tr style=\"text-align: right;\">\n",
              "      <th></th>\n",
              "      <th>INDEX</th>\n",
              "      <th>TARGET</th>\n",
              "      <th>FixedAcidity</th>\n",
              "      <th>VolatileAcidity</th>\n",
              "      <th>CitricAcid</th>\n",
              "      <th>ResidualSugar</th>\n",
              "      <th>Chlorides</th>\n",
              "      <th>FreeSulfurDioxide</th>\n",
              "      <th>TotalSulfurDioxide</th>\n",
              "      <th>Density</th>\n",
              "      <th>pH</th>\n",
              "      <th>Sulphates</th>\n",
              "      <th>Alcohol</th>\n",
              "      <th>LabelAppeal</th>\n",
              "      <th>AcidIndex</th>\n",
              "      <th>STARS</th>\n",
              "    </tr>\n",
              "  </thead>\n",
              "  <tbody>\n",
              "    <tr>\n",
              "      <th>count</th>\n",
              "      <td>12795.000000</td>\n",
              "      <td>12795.000000</td>\n",
              "      <td>12795.000000</td>\n",
              "      <td>12795.000000</td>\n",
              "      <td>12795.000000</td>\n",
              "      <td>12179.000000</td>\n",
              "      <td>12157.000000</td>\n",
              "      <td>12148.000000</td>\n",
              "      <td>12113.000000</td>\n",
              "      <td>12795.000000</td>\n",
              "      <td>12400.000000</td>\n",
              "      <td>11585.000000</td>\n",
              "      <td>12142.000000</td>\n",
              "      <td>12795.000000</td>\n",
              "      <td>12795.000000</td>\n",
              "      <td>9436.000000</td>\n",
              "    </tr>\n",
              "    <tr>\n",
              "      <th>mean</th>\n",
              "      <td>8069.980305</td>\n",
              "      <td>3.029074</td>\n",
              "      <td>7.075717</td>\n",
              "      <td>0.324104</td>\n",
              "      <td>0.308413</td>\n",
              "      <td>5.418733</td>\n",
              "      <td>0.054822</td>\n",
              "      <td>30.845571</td>\n",
              "      <td>120.714233</td>\n",
              "      <td>0.994203</td>\n",
              "      <td>3.207628</td>\n",
              "      <td>0.527112</td>\n",
              "      <td>10.489236</td>\n",
              "      <td>-0.009066</td>\n",
              "      <td>7.772724</td>\n",
              "      <td>2.041755</td>\n",
              "    </tr>\n",
              "    <tr>\n",
              "      <th>std</th>\n",
              "      <td>4656.905107</td>\n",
              "      <td>1.926368</td>\n",
              "      <td>6.317643</td>\n",
              "      <td>0.784014</td>\n",
              "      <td>0.862080</td>\n",
              "      <td>33.749379</td>\n",
              "      <td>0.318467</td>\n",
              "      <td>148.714558</td>\n",
              "      <td>231.913211</td>\n",
              "      <td>0.026538</td>\n",
              "      <td>0.679687</td>\n",
              "      <td>0.932129</td>\n",
              "      <td>3.727819</td>\n",
              "      <td>0.891089</td>\n",
              "      <td>1.323926</td>\n",
              "      <td>0.902540</td>\n",
              "    </tr>\n",
              "    <tr>\n",
              "      <th>min</th>\n",
              "      <td>1.000000</td>\n",
              "      <td>0.000000</td>\n",
              "      <td>-18.100000</td>\n",
              "      <td>-2.790000</td>\n",
              "      <td>-3.240000</td>\n",
              "      <td>-127.800000</td>\n",
              "      <td>-1.171000</td>\n",
              "      <td>-555.000000</td>\n",
              "      <td>-823.000000</td>\n",
              "      <td>0.888090</td>\n",
              "      <td>0.480000</td>\n",
              "      <td>-3.130000</td>\n",
              "      <td>-4.700000</td>\n",
              "      <td>-2.000000</td>\n",
              "      <td>4.000000</td>\n",
              "      <td>1.000000</td>\n",
              "    </tr>\n",
              "    <tr>\n",
              "      <th>25%</th>\n",
              "      <td>4037.500000</td>\n",
              "      <td>2.000000</td>\n",
              "      <td>5.200000</td>\n",
              "      <td>0.130000</td>\n",
              "      <td>0.030000</td>\n",
              "      <td>-2.000000</td>\n",
              "      <td>-0.031000</td>\n",
              "      <td>0.000000</td>\n",
              "      <td>27.000000</td>\n",
              "      <td>0.987720</td>\n",
              "      <td>2.960000</td>\n",
              "      <td>0.280000</td>\n",
              "      <td>9.000000</td>\n",
              "      <td>-1.000000</td>\n",
              "      <td>7.000000</td>\n",
              "      <td>1.000000</td>\n",
              "    </tr>\n",
              "    <tr>\n",
              "      <th>50%</th>\n",
              "      <td>8110.000000</td>\n",
              "      <td>3.000000</td>\n",
              "      <td>6.900000</td>\n",
              "      <td>0.280000</td>\n",
              "      <td>0.310000</td>\n",
              "      <td>3.900000</td>\n",
              "      <td>0.046000</td>\n",
              "      <td>30.000000</td>\n",
              "      <td>123.000000</td>\n",
              "      <td>0.994490</td>\n",
              "      <td>3.200000</td>\n",
              "      <td>0.500000</td>\n",
              "      <td>10.400000</td>\n",
              "      <td>0.000000</td>\n",
              "      <td>8.000000</td>\n",
              "      <td>2.000000</td>\n",
              "    </tr>\n",
              "    <tr>\n",
              "      <th>75%</th>\n",
              "      <td>12106.500000</td>\n",
              "      <td>4.000000</td>\n",
              "      <td>9.500000</td>\n",
              "      <td>0.640000</td>\n",
              "      <td>0.580000</td>\n",
              "      <td>15.900000</td>\n",
              "      <td>0.153000</td>\n",
              "      <td>70.000000</td>\n",
              "      <td>208.000000</td>\n",
              "      <td>1.000515</td>\n",
              "      <td>3.470000</td>\n",
              "      <td>0.860000</td>\n",
              "      <td>12.400000</td>\n",
              "      <td>1.000000</td>\n",
              "      <td>8.000000</td>\n",
              "      <td>3.000000</td>\n",
              "    </tr>\n",
              "    <tr>\n",
              "      <th>max</th>\n",
              "      <td>16129.000000</td>\n",
              "      <td>8.000000</td>\n",
              "      <td>34.400000</td>\n",
              "      <td>3.680000</td>\n",
              "      <td>3.860000</td>\n",
              "      <td>141.150000</td>\n",
              "      <td>1.351000</td>\n",
              "      <td>623.000000</td>\n",
              "      <td>1057.000000</td>\n",
              "      <td>1.099240</td>\n",
              "      <td>6.130000</td>\n",
              "      <td>4.240000</td>\n",
              "      <td>26.500000</td>\n",
              "      <td>2.000000</td>\n",
              "      <td>17.000000</td>\n",
              "      <td>4.000000</td>\n",
              "    </tr>\n",
              "  </tbody>\n",
              "</table>\n",
              "</div>"
            ],
            "text/plain": [
              "              INDEX        TARGET  ...     AcidIndex        STARS\n",
              "count  12795.000000  12795.000000  ...  12795.000000  9436.000000\n",
              "mean    8069.980305      3.029074  ...      7.772724     2.041755\n",
              "std     4656.905107      1.926368  ...      1.323926     0.902540\n",
              "min        1.000000      0.000000  ...      4.000000     1.000000\n",
              "25%     4037.500000      2.000000  ...      7.000000     1.000000\n",
              "50%     8110.000000      3.000000  ...      8.000000     2.000000\n",
              "75%    12106.500000      4.000000  ...      8.000000     3.000000\n",
              "max    16129.000000      8.000000  ...     17.000000     4.000000\n",
              "\n",
              "[8 rows x 16 columns]"
            ]
          },
          "metadata": {
            "tags": []
          },
          "execution_count": 5
        }
      ]
    },
    {
      "cell_type": "code",
      "metadata": {
        "id": "WsXOpbvorL9V",
        "outputId": "07cacb08-8bdf-43c7-c1e3-5771ef1c8751",
        "colab": {
          "base_uri": "https://localhost:8080/",
          "height": 256
        }
      },
      "source": [
        "sns.catplot(x='pH', data=df , kind='count',height = 3, aspect=1.1 )"
      ],
      "execution_count": 7,
      "outputs": [
        {
          "output_type": "execute_result",
          "data": {
            "text/plain": [
              "<seaborn.axisgrid.FacetGrid at 0x7f3807fdaa58>"
            ]
          },
          "metadata": {
            "tags": []
          },
          "execution_count": 7
        },
        {
          "output_type": "display_data",
          "data": {
            "image/png": "[encoded data removed]",
            "text/plain": [
              "<Figure size 237.6x216 with 1 Axes>"
            ]
          },
          "metadata": {
            "tags": [],
            "needs_background": "light"
          }
        }
      ]
    },
    {
      "cell_type": "code",
      "metadata": {
        "id": "nxJUcFDWrgly",
        "outputId": "03909710-daf6-43a4-d734-954759bdd71f",
        "colab": {
          "base_uri": "https://localhost:8080/",
          "height": 893
        }
      },
      "source": [
        "#histograms\n",
        "df.hist(figsize=(15, 10), bins=20, xlabelsize=10, ylabelsize=10)"
      ],
      "execution_count": 8,
      "outputs": [
        {
          "output_type": "execute_result",
          "data": {
            "text/plain": [
              "array([[<matplotlib.axes._subplots.AxesSubplot object at 0x7f3807e94e48>,\n",
              "        <matplotlib.axes._subplots.AxesSubplot object at 0x7f3804b99c50>,\n",
              "        <matplotlib.axes._subplots.AxesSubplot object at 0x7f380470ceb8>,\n",
              "        <matplotlib.axes._subplots.AxesSubplot object at 0x7f380472c160>],\n",
              "       [<matplotlib.axes._subplots.AxesSubplot object at 0x7f38046d9278>,\n",
              "        <matplotlib.axes._subplots.AxesSubplot object at 0x7f3805527f28>,\n",
              "        <matplotlib.axes._subplots.AxesSubplot object at 0x7f3807f63048>,\n",
              "        <matplotlib.axes._subplots.AxesSubplot object at 0x7f380532b860>],\n",
              "       [<matplotlib.axes._subplots.AxesSubplot object at 0x7f380532bef0>,\n",
              "        <matplotlib.axes._subplots.AxesSubplot object at 0x7f3804c0db00>,\n",
              "        <matplotlib.axes._subplots.AxesSubplot object at 0x7f3804645550>,\n",
              "        <matplotlib.axes._subplots.AxesSubplot object at 0x7f38045f77b8>],\n",
              "       [<matplotlib.axes._subplots.AxesSubplot object at 0x7f38045ada20>,\n",
              "        <matplotlib.axes._subplots.AxesSubplot object at 0x7f380455fc88>,\n",
              "        <matplotlib.axes._subplots.AxesSubplot object at 0x7f3804514ef0>,\n",
              "        <matplotlib.axes._subplots.AxesSubplot object at 0x7f38044d5198>]],\n",
              "      dtype=object)"
            ]
          },
          "metadata": {
            "tags": []
          },
          "execution_count": 8
        },
        {
          "output_type": "display_data",
          "data": {
            "image/png": "[encoded data removed]",
            "text/plain": [
              "<Figure size 1080x720 with 16 Axes>"
            ]
          },
          "metadata": {
            "tags": [],
            "needs_background": "light"
          }
        }
      ]
    },
    {
      "cell_type": "markdown",
      "metadata": {
        "id": "8gS8s3eBl5MN"
      },
      "source": [
        "When looking at the graphs for all the sections, they all are at the highest in the middle area of them. This is shown in the last graph I made above. The Label Appeal, pH, Density and many others all share this idea. "
      ]
    }
  ]
}